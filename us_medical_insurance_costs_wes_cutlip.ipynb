{
 "cells": [
  {
   "cell_type": "markdown",
   "metadata": {},
   "source": [
    "# U.S. Medical Insurance Costs"
   ]
  },
  {
   "cell_type": "code",
   "execution_count": 124,
   "metadata": {},
   "outputs": [],
   "source": [
    "import pandas as pd\n",
    "import numpy as np\n",
    "from scipy.stats import pearsonr\n",
    "from scipy.stats import ttest_ind\n",
    "from scipy.stats import f_oneway\n",
    "from statsmodels.stats.multicomp import pairwise_tukeyhsd"
   ]
  },
  {
   "cell_type": "code",
   "execution_count": 97,
   "metadata": {},
   "outputs": [
    {
     "name": "stdout",
     "output_type": "stream",
     "text": [
      "Index(['age', 'sex', 'bmi', 'children', 'smoker', 'region', 'charges'], dtype='object')\n",
      "   age     sex     bmi  children smoker     region      charges\n",
      "0   19  female  27.900         0    yes  southwest  16884.92400\n",
      "1   18    male  33.770         1     no  southeast   1725.55230\n",
      "2   28    male  33.000         3     no  southeast   4449.46200\n",
      "3   33    male  22.705         0     no  northwest  21984.47061\n",
      "4   32    male  28.880         0     no  northwest   3866.85520\n"
     ]
    }
   ],
   "source": [
    "insurance = pd.read_csv(\"insurance.csv\")\n",
    "print(insurance.columns)\n",
    "print(insurance.head())"
   ]
  },
  {
   "cell_type": "code",
   "execution_count": 98,
   "metadata": {},
   "outputs": [],
   "source": [
    "age = list(insurance.age)\n",
    "sex = list(insurance.sex)\n",
    "bmi = list(insurance.bmi)\n",
    "children = list(insurance.children)\n",
    "smoker = list(insurance.smoker)\n",
    "region = list(insurance.region)\n",
    "charges = list(insurance.charges)"
   ]
  },
  {
   "cell_type": "code",
   "execution_count": 99,
   "metadata": {},
   "outputs": [
    {
     "name": "stdout",
     "output_type": "stream",
     "text": [
      "Average age of insured individual is: 39.2\n",
      "Youngest age of insured individuals is: 18\n",
      "Oldest age of insured individuals is: 64\n"
     ]
    }
   ],
   "source": [
    "avg_age = np.mean(age)\n",
    "print(\"Average age of insured individual is: \" + str(np.round(avg_age, 1)))\n",
    "\n",
    "print(\"Youngest age of insured individuals is: \" + str(np.min(age)))\n",
    "print(\"Oldest age of insured individuals is: \" + str(np.max(age)))"
   ]
  },
  {
   "cell_type": "code",
   "execution_count": 100,
   "metadata": {},
   "outputs": [
    {
     "name": "stdout",
     "output_type": "stream",
     "text": [
      "['southwest' 'southeast' 'northwest' 'northeast']\n",
      "Number of insured individuals in the Southeast: 364\n",
      "Average charges in the Southeast are: $14735.41\n",
      "Number of insured individuals in the Southwest: 325\n",
      "Average charges in the Southwest are: $12346.94\n",
      "Number of insured individuals in the Northwest: 325\n",
      "Average charges in the Northwest are: $12417.58\n",
      "Number of insured individuals in the Northeast: 324\n",
      "Average charges in the Northeast are: $13406.38\n"
     ]
    }
   ],
   "source": [
    "# identifying regions\n",
    "print(pd.unique(insurance.region))\n",
    "\n",
    "num_southwest = region.count(\"southwest\")\n",
    "sw = insurance[insurance.region == \"southwest\"]\n",
    "avg_sw_charges = np.mean(sw.charges)\n",
    "num_southeast = region.count(\"southeast\")\n",
    "se = insurance[insurance.region == \"southeast\"]\n",
    "avg_se_charges = np.mean(se.charges)\n",
    "num_northwest = region.count(\"northwest\")\n",
    "nw = insurance[insurance.region == \"northwest\"]\n",
    "avg_nw_charges = np.mean(nw.charges)\n",
    "num_northeast = region.count(\"northeast\")\n",
    "ne = insurance[insurance.region == \"northeast\"]\n",
    "avg_ne_charges = np.mean(ne.charges)\n",
    "\n",
    "print(\"Number of insured individuals in the Southeast: \" + str(num_southeast))\n",
    "print(\"Average charges in the Southeast are: $\" + str(np.round(avg_se_charges, 2)))\n",
    "print(\"Number of insured individuals in the Southwest: \" + str(num_southwest))\n",
    "print(\"Average charges in the Southwest are: $\" + str(np.round(avg_sw_charges, 2)))\n",
    "print(\"Number of insured individuals in the Northwest: \" + str(num_northwest))\n",
    "print(\"Average charges in the Northwest are: $\" + str(np.round(avg_nw_charges, 2)))\n",
    "print(\"Number of insured individuals in the Northeast: \" + str(num_northeast))\n",
    "print(\"Average charges in the Northeast are: $\" + str(np.round(avg_ne_charges, 2)))"
   ]
  },
  {
   "cell_type": "code",
   "execution_count": 101,
   "metadata": {},
   "outputs": [
    {
     "name": "stdout",
     "output_type": "stream",
     "text": [
      "Average insurance charges for non-smokers are: $8434.27\n",
      "Average insurance charges for smokers are: $32050.23\n",
      "The difference between average insurance charges of smokers and non-smokers is: $23615.96\n"
     ]
    }
   ],
   "source": [
    "smoke = insurance[insurance.smoker == \"yes\"]\n",
    "non_smoke = insurance[insurance.smoker == \"no\"]\n",
    "smoke_diff = np.mean(smoke.charges) - np.mean(non_smoke.charges)\n",
    "\n",
    "print(\"Average insurance charges for non-smokers are: $\" + str(np.round(np.mean(non_smoke.charges), 2)))\n",
    "print(\"Average insurance charges for smokers are: $\" + str(np.round(np.mean(smoke.charges), 2)))\n",
    "print(\"The difference between average insurance charges of smokers and non-smokers is: $\" + str(np.round(smoke_diff, 2)))"
   ]
  },
  {
   "cell_type": "code",
   "execution_count": 102,
   "metadata": {},
   "outputs": [
    {
     "name": "stdout",
     "output_type": "stream",
     "text": [
      "The average age of an insured individual who has children is: 39.8\n"
     ]
    }
   ],
   "source": [
    "has_children = insurance[insurance.children >= 1]\n",
    "age_w_children = np.mean(has_children.age)\n",
    "\n",
    "print(\"The average age of an insured individual who has children is: \" + str(np.round(age_w_children, 1)))"
   ]
  },
  {
   "cell_type": "code",
   "execution_count": 126,
   "metadata": {},
   "outputs": [
    {
     "name": "stdout",
     "output_type": "stream",
     "text": [
      "The correlation between age and insurance charges is: 0.299\n",
      "The p-value between age and insurance charges is: 4.8866933317203816e-29\n",
      "The correlation between bmi and insurance charges is: 0.198\n",
      "The p-value between bmi and insurance charges is: 2.459085535117846e-13\n",
      "The correlation between children and insurance charges is: 0.068\n",
      "The p-value between children and insurance charges is: 0.01285\n",
      "The p-value between sex and insurance charges is: 0.036\n",
      "The p-value between smoker status and insurance charges is: 8.271435842179102e-283\n",
      "       Multiple Comparison of Means - Tukey HSD, FWER=0.05       \n",
      "=================================================================\n",
      "  group1    group2   meandiff  p-adj    lower      upper   reject\n",
      "-----------------------------------------------------------------\n",
      "northeast northwest  -988.8091 0.7002 -3428.9473  1451.329  False\n",
      "northeast southeast  1329.0269 0.4754 -1044.9543 3703.0081  False\n",
      "northeast southwest -1059.4471 0.6584 -3499.5853  1380.691  False\n",
      "northwest southeast  2317.8361 0.0583    -54.212 4689.8842  False\n",
      "northwest southwest    -70.638    0.9 -2508.8955 2367.6195  False\n",
      "southeast southwest -2388.4741 0.0477 -4760.5221   -16.426   True\n",
      "-----------------------------------------------------------------\n"
     ]
    }
   ],
   "source": [
    "corr_age, pval_age = pearsonr(insurance[\"age\"], insurance[\"charges\"])\n",
    "corr_bmi, pval_bmi = pearsonr(insurance[\"bmi\"], insurance[\"charges\"])\n",
    "corr_children, pval_children = pearsonr(insurance[\"children\"], insurance[\"charges\"])\n",
    "\n",
    "print(\"The correlation between age and insurance charges is: \" + str(np.round(corr_age, 3)))\n",
    "print(\"The p-value between age and insurance charges is: \" + str(pval_age))\n",
    "print(\"The correlation between bmi and insurance charges is: \" + str(np.round(corr_bmi, 3)))\n",
    "print(\"The p-value between bmi and insurance charges is: \" + str(pval_bmi))\n",
    "print(\"The correlation between children and insurance charges is: \" + str(np.round(corr_children, 3)))\n",
    "print(\"The p-value between children and insurance charges is: \" + str(np.round(pval_children, 5)))\n",
    "\n",
    "female_charges = insurance.charges[insurance.sex == \"female\"]\n",
    "male_charges = insurance.charges[insurance.sex == \"male\"]\n",
    "tstat_sex, pval_sex = ttest_ind(female_charges, male_charges)\n",
    "smoke_charges = insurance.charges[insurance.smoker == \"yes\"]\n",
    "no_smoke_charges = insurance.charges[insurance.smoker == \"no\"]\n",
    "tstat_smoker, pval_smoker = ttest_ind(no_smoke_charges, smoke_charges)\n",
    "print(\"The p-value between sex and insurance charges is: \" + str(np.round(pval_sex, 3)))\n",
    "print(\"The p-value between smoker status and insurance charges is: \" + str(pval_smoker))\n",
    "\n",
    "sw_charges = insurance.charges[insurance.region == \"southwest\"]\n",
    "se_charges = insurance.charges[insurance.region == \"southeast\"]\n",
    "nw_charges = insurance.charges[insurance.region == \"northwest\"]\n",
    "ne_charges = insurance.charges[insurance.region == \"northeast\"]\n",
    "fstat_region, pval_region = f_oneway(sw_charges, se_charges, nw_charges, ne_charges)\n",
    "#print(pval_region)\n",
    "tukey_region_results = pairwise_tukeyhsd(insurance.charges, insurance.region, 0.05)\n",
    "print(tukey_region_results)"
   ]
  },
  {
   "cell_type": "markdown",
   "metadata": {},
   "source": [
    "The most impactful variables on insurance charges in this dataset by far are (in order of significance):\n",
    "\n",
    "    1. Smoking Status\n",
    "    2. Age\n",
    "    3. BMI"
   ]
  }
 ],
 "metadata": {
  "kernelspec": {
   "display_name": "Python 3",
   "language": "python",
   "name": "python3"
  },
  "language_info": {
   "codemirror_mode": {
    "name": "ipython",
    "version": 3
   },
   "file_extension": ".py",
   "mimetype": "text/x-python",
   "name": "python",
   "nbconvert_exporter": "python",
   "pygments_lexer": "ipython3",
   "version": "3.8.8"
  }
 },
 "nbformat": 4,
 "nbformat_minor": 4
}
